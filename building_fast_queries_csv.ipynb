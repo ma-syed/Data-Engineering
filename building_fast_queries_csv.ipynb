{
 "cells": [
  {
   "cell_type": "code",
   "execution_count": 11,
   "metadata": {},
   "outputs": [
    {
     "name": "stdout",
     "output_type": "stream",
     "text": [
      "['Id', 'Company', 'Product', 'TypeName', 'Inches', 'ScreenResolution', 'Cpu', 'Ram', 'Memory', 'Gpu', 'OpSys', 'Weight', 'Price']\n",
      "[['6571244', 'Apple', 'MacBook Pro', 'Ultrabook', '13.3', 'IPS Panel Retina Display 2560x1600', 'Intel Core i5 2.3GHz', '8GB', '128GB SSD', 'Intel Iris Plus Graphics 640', 'macOS', '1.37kg', '1339'], ['7287764', 'Apple', 'Macbook Air', 'Ultrabook', '13.3', '1440x900', 'Intel Core i5 1.8GHz', '8GB', '128GB Flash Storage', 'Intel HD Graphics 6000', 'macOS', '1.34kg', '898'], ['3362737', 'HP', '250 G6', 'Notebook', '15.6', 'Full HD 1920x1080', 'Intel Core i5 7200U 2.5GHz', '8GB', '256GB SSD', 'Intel HD Graphics 620', 'No OS', '1.86kg', '575'], ['9722156', 'Apple', 'MacBook Pro', 'Ultrabook', '15.4', 'IPS Panel Retina Display 2880x1800', 'Intel Core i7 2.7GHz', '16GB', '512GB SSD', 'AMD Radeon Pro 455', 'macOS', '1.83kg', '2537'], ['8550527', 'Apple', 'MacBook Pro', 'Ultrabook', '13.3', 'IPS Panel Retina Display 2560x1600', 'Intel Core i5 3.1GHz', '8GB', '256GB SSD', 'Intel Iris Plus Graphics 650', 'macOS', '1.37kg', '1803']]\n"
     ]
    }
   ],
   "source": [
    "import csv\n",
    "with open('laptops.csv') as file:\n",
    "    rows = list(csv.reader(file))\n",
    "    header = rows[0]\n",
    "    rows = rows[1:]\n",
    "print(header)\n",
    "print(rows[0:5])"
   ]
  },
  {
   "cell_type": "code",
   "execution_count": 19,
   "metadata": {},
   "outputs": [
    {
     "name": "stdout",
     "output_type": "stream",
     "text": [
      "['Id', 'Company', 'Product', 'TypeName', 'Inches', 'ScreenResolution', 'Cpu', 'Ram', 'Memory', 'Gpu', 'OpSys', 'Weight', 'Price']\n",
      "1303\n"
     ]
    }
   ],
   "source": [
    "class Inventory():\n",
    "    \n",
    "    def __init__(self, csv_filename):\n",
    "        with open(csv_filename) as file:\n",
    "            self.rows = list(csv.reader(file))\n",
    "            self.header = self.rows[0]\n",
    "            self.rows = self.rows[1:]\n",
    "        \n",
    "        for row in self.rows:\n",
    "            row[-1] = int(row[-1])\n",
    "\n",
    "laptops = Inventory('laptops.csv')\n",
    "print(laptops.header)\n",
    "print(len(laptops.rows))"
   ]
  },
  {
   "cell_type": "code",
   "execution_count": 20,
   "metadata": {},
   "outputs": [
    {
     "name": "stdout",
     "output_type": "stream",
     "text": [
      "['3362737', 'HP', '250 G6', 'Notebook', '15.6', 'Full HD 1920x1080', 'Intel Core i5 7200U 2.5GHz', '8GB', '256GB SSD', 'Intel HD Graphics 620', 'No OS', '1.86kg', 575]\n",
      "None\n"
     ]
    }
   ],
   "source": [
    "class Inventory():\n",
    "    \n",
    "    def __init__(self, csv_filename):\n",
    "        with open(csv_filename) as file:\n",
    "            self.rows = list(csv.reader(file))\n",
    "            self.header = self.rows[0]\n",
    "            self.rows = self.rows[1:]\n",
    "        for row in self.rows:\n",
    "            row[-1] = int(row[-1])\n",
    "\n",
    "    def get_laptop_from_id(self, laptop_id):\n",
    "        for row in self.rows:\n",
    "            if laptop_id == row[0]:\n",
    "                return row\n",
    "        return None\n",
    "                \n",
    "\n",
    "laptops = Inventory('laptops.csv')\n",
    "print(laptops.get_laptop_from_id('3362737'))\n",
    "print(laptops.get_laptop_from_id('3362736'))"
   ]
  },
  {
   "cell_type": "code",
   "execution_count": 21,
   "metadata": {},
   "outputs": [
    {
     "name": "stdout",
     "output_type": "stream",
     "text": [
      "['3362737', 'HP', '250 G6', 'Notebook', '15.6', 'Full HD 1920x1080', 'Intel Core i5 7200U 2.5GHz', '8GB', '256GB SSD', 'Intel HD Graphics 620', 'No OS', '1.86kg', 575]\n",
      "None\n"
     ]
    }
   ],
   "source": [
    "class Inventory():\n",
    "    \n",
    "    def __init__(self, csv_filename):\n",
    "        with open(csv_filename) as file:\n",
    "            self.rows = list(csv.reader(file))\n",
    "            self.header = self.rows[0]\n",
    "            self.rows = self.rows[1:]\n",
    "        \n",
    "        for row in self.rows:\n",
    "            row[-1] = int(row[-1])\n",
    "        self.id_to_row = {}\n",
    "        \n",
    "        for row in self.rows:\n",
    "            self.id_to_row[row[0]] = row\n",
    "\n",
    "    def get_laptop_from_id_fast(self, laptop_id):\n",
    "        if laptop_id in self.id_to_row:\n",
    "            return self.id_to_row[laptop_id]\n",
    "        else:\n",
    "            return None\n",
    "    \n",
    "    def get_laptop_from_id(self, laptop_id):\n",
    "        for row in self.rows:\n",
    "            if laptop_id == row[0]:\n",
    "                return row\n",
    "        return None\n",
    "                \n",
    "\n",
    "laptops = Inventory('laptops.csv')\n",
    "print(laptops.get_laptop_from_id_fast('3362737'))\n",
    "print(laptops.get_laptop_from_id_fast('3362736'))"
   ]
  },
  {
   "cell_type": "code",
   "execution_count": 23,
   "metadata": {},
   "outputs": [
    {
     "name": "stdout",
     "output_type": "stream",
     "text": [
      "No Dict: 1.2429\n",
      "With Dict: 0.0067\n"
     ]
    }
   ],
   "source": [
    "import time, random\n",
    "ids = [str(random.randint(1000000,9999999)) for _ in range(10000)]\n",
    "\n",
    "total_time_no_dict = 0\n",
    "for i in ids:\n",
    "    start = time.time()\n",
    "    laptops.get_laptop_from_id(i)\n",
    "    end = time.time()\n",
    "    total_time_no_dict += (end - start)\n",
    "\n",
    "total_time_dict = 0\n",
    "for i in ids:\n",
    "    start = time.time()\n",
    "    laptops.get_laptop_from_id_fast(i)\n",
    "    end = time.time()\n",
    "    total_time_dict += (end - start)\n",
    "print('No Dict: {:.4f}'.format(total_time_no_dict))\n",
    "print('With Dict: {:.4f}'.format(total_time_dict))"
   ]
  },
  {
   "cell_type": "code",
   "execution_count": 26,
   "metadata": {},
   "outputs": [
    {
     "name": "stdout",
     "output_type": "stream",
     "text": [
      "True\n",
      "False\n"
     ]
    }
   ],
   "source": [
    "class Inventory():\n",
    "    \n",
    "    def __init__(self, csv_filename):\n",
    "        with open(csv_filename) as file:\n",
    "            self.rows = list(csv.reader(file))\n",
    "            self.header = self.rows[0]\n",
    "            self.rows = self.rows[1:]\n",
    "        \n",
    "        for row in self.rows:\n",
    "            row[-1] = int(row[-1])\n",
    "        self.id_to_row = {}\n",
    "        \n",
    "        for row in self.rows:\n",
    "            self.id_to_row[row[0]] = row\n",
    "\n",
    "    def check_promotion_dollars(self,dollars):\n",
    "        for i in range(len(self.rows)):\n",
    "            if dollars == self.rows[i][-1]:\n",
    "                return True\n",
    "            for j in range(i, len(self.rows)):\n",
    "                if dollars == self.rows[i][-1] + self.rows[j][-1]:\n",
    "                    return True\n",
    "        return False\n",
    "    \n",
    "    def get_laptop_from_id_fast(self, laptop_id):\n",
    "        if laptop_id in self.id_to_row:\n",
    "            return self.id_to_row[laptop_id]\n",
    "        else:\n",
    "            return None\n",
    "    \n",
    "    def get_laptop_from_id(self, laptop_id):\n",
    "        for row in self.rows:\n",
    "            if laptop_id == row[0]:\n",
    "                return row\n",
    "        return None\n",
    "                \n",
    "\n",
    "laptops = Inventory('laptops.csv')\n",
    "print(laptops.check_promotion_dollars(1000))\n",
    "print(laptops.check_promotion_dollars(442))"
   ]
  },
  {
   "cell_type": "code",
   "execution_count": 27,
   "metadata": {},
   "outputs": [
    {
     "name": "stdout",
     "output_type": "stream",
     "text": [
      "True\n",
      "False\n"
     ]
    }
   ],
   "source": [
    "class Inventory():\n",
    "    \n",
    "    def __init__(self, csv_filename):\n",
    "        self.id_to_row = {} # Dict based on ID\n",
    "        self.prices = set() # Set of prices\n",
    "        \n",
    "        with open(csv_filename) as file:\n",
    "            self.rows = list(csv.reader(file))\n",
    "            self.header = self.rows[0]\n",
    "            self.rows = self.rows[1:]\n",
    "        \n",
    "        for row in self.rows:\n",
    "            row[-1] = int(row[-1]) # Convert Prices to Int\n",
    "            self.id_to_row[row[0]] = row # Dict based on ID\n",
    "            self.prices.add(row[-1]) # Set of prices\n",
    "\n",
    "    def check_promotion_dollars_fast(self,dollars):\n",
    "        if dollars in self.prices:\n",
    "            return True\n",
    "        for price in self.prices:\n",
    "            if dollars - price in self.prices:\n",
    "                return True\n",
    "        return False\n",
    "    \n",
    "    def check_promotion_dollars(self,dollars):\n",
    "        for i in range(len(self.rows)):\n",
    "            if dollars == self.rows[i][-1]:\n",
    "                return True\n",
    "            for j in range(i, len(self.rows)):\n",
    "                if dollars == self.rows[i][-1] + self.rows[j][-1]:\n",
    "                    return True\n",
    "        return False\n",
    "    \n",
    "    def get_laptop_from_id_fast(self, laptop_id):\n",
    "        if laptop_id in self.id_to_row:\n",
    "            return self.id_to_row[laptop_id]\n",
    "        else:\n",
    "            return None\n",
    "    \n",
    "    def get_laptop_from_id(self, laptop_id):\n",
    "        for row in self.rows:\n",
    "            if laptop_id == row[0]:\n",
    "                return row\n",
    "        return None\n",
    "                \n",
    "\n",
    "laptops = Inventory('laptops.csv')\n",
    "print(laptops.check_promotion_dollars_fast(1000))\n",
    "print(laptops.check_promotion_dollars_fast(442))"
   ]
  },
  {
   "cell_type": "code",
   "execution_count": 28,
   "metadata": {},
   "outputs": [
    {
     "name": "stdout",
     "output_type": "stream",
     "text": [
      "No Set: 2.9112\n",
      "With Set: 0.0009\n"
     ]
    }
   ],
   "source": [
    "prices = [random.randint(100,5000) for _ in range(100)]\n",
    "total_time_no_set = 0\n",
    "total_time_set = 0\n",
    "for price in prices:\n",
    "    start = time.time()\n",
    "    laptops.check_promotion_dollars(price)\n",
    "    end = time.time()\n",
    "    total_time_no_set += (end - start)\n",
    "\n",
    "for price in prices:\n",
    "    start = time.time()\n",
    "    laptops.check_promotion_dollars_fast(price)\n",
    "    end = time.time()\n",
    "    total_time_set += (end - start)\n",
    "\n",
    "print('No Set: {:.4f}'.format(total_time_no_set))\n",
    "print('With Set: {:.4f}'.format(total_time_set))"
   ]
  },
  {
   "cell_type": "code",
   "execution_count": 53,
   "metadata": {},
   "outputs": [
    {
     "name": "stdout",
     "output_type": "stream",
     "text": [
      "(652, 1302)\n",
      "(652, 977)\n",
      "(652, 814)\n",
      "(652, 733)\n",
      "(652, 692)\n",
      "(673, 692)\n",
      "(683, 692)\n",
      "(683, 687)\n",
      "(683, 685)\n",
      "(683, 684)\n",
      "(683, 683)\n",
      "683\n",
      "(652, 1302)\n",
      "(978, 1302)\n",
      "(1141, 1302)\n",
      "(1222, 1302)\n",
      "(1263, 1302)\n",
      "(1283, 1302)\n",
      "(1293, 1302)\n",
      "(1298, 1302)\n",
      "(1301, 1302)\n",
      "(1302, 1302)\n",
      "-1\n"
     ]
    }
   ],
   "source": [
    "class Inventory():\n",
    "    \n",
    "    def __init__(self, csv_filename):\n",
    "        self.id_to_row = {} # Dict based on ID\n",
    "        self.prices = set() # Set of prices\n",
    "        \n",
    "        with open(csv_filename) as file:\n",
    "            self.rows = list(csv.reader(file))\n",
    "            self.header = self.rows[0]\n",
    "            self.rows = self.rows[1:]\n",
    "        \n",
    "        for row in self.rows:\n",
    "            row[-1] = int(row[-1]) # Convert Prices to Int\n",
    "            self.id_to_row[row[0]] = row # Dict based on ID\n",
    "            self.prices.add(row[-1]) # Set of prices\n",
    "        \n",
    "        self.rows_by_price = sorted(self.rows, key = lambda row: row[-1])\n",
    "\n",
    "    def check_promotion_dollars_fast(self,dollars):\n",
    "        if dollars in self.prices:\n",
    "            return True\n",
    "        for price in self.prices:\n",
    "            if dollars - price in self.prices:\n",
    "                return True\n",
    "        return False\n",
    "    \n",
    "    def check_promotion_dollars(self,dollars):\n",
    "        for i in range(len(self.rows)):\n",
    "            if dollars == self.rows[i][-1]:\n",
    "                return True\n",
    "            for j in range(i, len(self.rows)):\n",
    "                if dollars == self.rows[i][-1] + self.rows[j][-1]:\n",
    "                    return True\n",
    "        return False\n",
    "    \n",
    "    def get_laptop_from_id_fast(self, laptop_id):\n",
    "        if laptop_id in self.id_to_row:\n",
    "            return self.id_to_row[laptop_id]\n",
    "        else:\n",
    "            return None\n",
    "    \n",
    "    def get_laptop_from_id(self, laptop_id):\n",
    "        for row in self.rows:\n",
    "            if laptop_id == row[0]:\n",
    "                return row\n",
    "        return None\n",
    "    \n",
    "    def find_first_laptop_more_expensive(self, target_price):\n",
    "        range_start = 0                                   \n",
    "        range_end = len(self.rows_by_price) - 1                       \n",
    "        while range_start < range_end:\n",
    "            range_middle = (range_end + range_start) // 2  \n",
    "            price = self.rows_by_price[range_middle][-1]\n",
    "            if price <= target_price:                           \n",
    "                range_start = range_middle + 1             \n",
    "            else:                                          \n",
    "                range_end = range_middle\n",
    "            print((range_start,range_end))\n",
    "        price = self.rows_by_price[range_start][-1]\n",
    "\n",
    "        if price > target_price:                  \n",
    "            return range_start\n",
    "        else:\n",
    "            return -1\n",
    "                \n",
    "\n",
    "laptops = Inventory('laptops.csv')\n",
    "print(laptops.find_first_laptop_more_expensive(1000))\n",
    "print(laptops.find_first_laptop_more_expensive(10000))"
   ]
  },
  {
   "cell_type": "code",
   "execution_count": null,
   "metadata": {
    "collapsed": true
   },
   "outputs": [],
   "source": []
  }
 ],
 "metadata": {
  "kernelspec": {
   "display_name": "Python 3",
   "language": "python",
   "name": "python3"
  },
  "language_info": {
   "codemirror_mode": {
    "name": "ipython",
    "version": 3
   },
   "file_extension": ".py",
   "mimetype": "text/x-python",
   "name": "python",
   "nbconvert_exporter": "python",
   "pygments_lexer": "ipython3",
   "version": "3.8.2"
  }
 },
 "nbformat": 4,
 "nbformat_minor": 2
}
