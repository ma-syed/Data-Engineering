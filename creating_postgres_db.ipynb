{
 "cells": [
  {
   "cell_type": "markdown",
   "metadata": {},
   "source": [
    "# Building a database for crime reports\n",
    "The goal of this project is to create a postgres database based from a CSV file which has data on crimes in Boston. \n",
    "\n",
    "We will: \n",
    "* create database with a table with appropriate datatypes for storing the data\n",
    "* create readonly and readwrite groups\n",
    "* create 1 user for each of these groups"
   ]
  },
  {
   "cell_type": "markdown",
   "metadata": {},
   "source": [
    "## Creating the Crime Database"
   ]
  },
  {
   "cell_type": "code",
   "execution_count": 1,
   "metadata": {
    "collapsed": true
   },
   "outputs": [],
   "source": [
    "import psycopg2\n",
    "conn= psycopg2.connect(dbname='dq',user='dq') # No Password\n",
    "cur = conn.cursor()\n",
    "\n",
    "conn.autocommit = True\n",
    "cur.execute(\"CREATE DATABASE crime_db;\")\n",
    "conn.close()\n",
    "\n",
    "conn = psycopg2.connect(dbname='crime_db',user='dq')\n",
    "cur = conn.cursor()\n",
    "cur.execute(\"CREATE SCHEMA crimes;\")\n",
    "conn.commit()"
   ]
  },
  {
   "cell_type": "markdown",
   "metadata": {},
   "source": [
    "## Obtaining the Column Names and Sample"
   ]
  },
  {
   "cell_type": "code",
   "execution_count": 2,
   "metadata": {},
   "outputs": [
    {
     "name": "stdout",
     "output_type": "stream",
     "text": [
      "['incident_number', 'offense_code', 'description', 'date', 'day_of_the_week', 'lat', 'long']\n",
      "['1', '619', 'LARCENY ALL OTHERS', '2018-09-02', 'Sunday', '42.35779134', '-71.13937053']\n"
     ]
    }
   ],
   "source": [
    "# We analyze the dataset in boston.csv\n",
    "import csv\n",
    "with open('boston.csv','r') as f:\n",
    "    reader = csv.reader(f)\n",
    "    col_headers = next(reader)\n",
    "    first_row = next(reader)\n",
    "\n",
    "print(col_headers)\n",
    "print(first_row)"
   ]
  },
  {
   "cell_type": "markdown",
   "metadata": {},
   "source": [
    "\n",
    "|Index|Columns|\n",
    "|---|---|\n",
    "|0|incident_number|\n",
    "|1|offense_code|\n",
    "|2|description|\n",
    "|3|date|\n",
    "|4|day_of_the_week|\n",
    "|5|lat|\n",
    "|6|long|\n"
   ]
  },
  {
   "cell_type": "markdown",
   "metadata": {},
   "source": [
    "## Creating an Auxiliary Function\n",
    "Before we create a table for storing the crime data, we need to identify the proper datatypes for the columns. To help us with that, let's create a function — *get_col_value_set()* — that given the name of a CSV file and a column index (starting a 0) that computes a Python set with all distinct values contained in that column\n",
    "\n",
    "This function will be useful for two reasons:\n",
    "\n",
    "1. Checking whether an enumerated datatype might be a good choice for representing a column.\n",
    "2. Computing the maximum length of any text-like column to select appropriate sizes for VARCHAR columns."
   ]
  },
  {
   "cell_type": "code",
   "execution_count": 5,
   "metadata": {},
   "outputs": [
    {
     "name": "stdout",
     "output_type": "stream",
     "text": [
      "Num of distinct values at index 0: 298329\n",
      "\n",
      "Num of distinct values at index 1: 219\n",
      "\n",
      "Num of distinct values at index 2: 239\n",
      "\n",
      "Num of distinct values at index 3: 1177\n",
      "\n",
      "Num of distinct values at index 4: 7\n",
      "\n",
      "Num of distinct values at index 5: 18177\n",
      "\n",
      "Num of distinct values at index 6: 18177\n",
      "\n"
     ]
    }
   ],
   "source": [
    "def get_col_value_set(csv_filename,col_index):\n",
    "    value_set= set()\n",
    "    with open(csv_filename,'r') as f:\n",
    "        reader= csv.reader(f)\n",
    "        next(reader)\n",
    "        for row in list(reader):\n",
    "            value_set.add(row[col_index])\n",
    "    return value_set\n",
    "\n",
    "for i in range(7):\n",
    "    print('Num of distinct values at index {}: {}\\n'.format(i,len(get_col_value_set('boston.csv',i))))\n",
    "    "
   ]
  },
  {
   "cell_type": "markdown",
   "metadata": {},
   "source": [
    "|Index|Columns|Distinct Values|\n",
    "|---|---|---|\n",
    "|0|incident_number|298,329|\n",
    "|1|offense_code|219|\n",
    "|2|description|239|\n",
    "|3|date|1177|\n",
    "|4|day_of_the_week|7|\n",
    "|5|lat|18,177|\n",
    "|6|long|18,177|"
   ]
  },
  {
   "cell_type": "markdown",
   "metadata": {},
   "source": [
    "## Finding the Maximum Length\n",
    "There are 2 textual columns: description and day_of_the_week. Since there are only 7 distinct values in day_of_the_week we can use enumerated datatype for that column. Plus its easy to see that Wednesday is the longest value with length of 9. We will find out the maximum length of each value in the description column"
   ]
  },
  {
   "cell_type": "code",
   "execution_count": 7,
   "metadata": {},
   "outputs": [
    {
     "name": "stdout",
     "output_type": "stream",
     "text": [
      "Max Length: 58\n"
     ]
    }
   ],
   "source": [
    "max_length = len(max(get_col_value_set('boston.csv',2),key=lambda x:len(x)))\n",
    "print('Max Length: {}'.format(max_length))"
   ]
  },
  {
   "cell_type": "markdown",
   "metadata": {},
   "source": [
    "## Creating the table\n",
    "We will use 5 data types to create the table:\n",
    "\n",
    "1. VARCHAR(80) for the column description\n",
    "2. Enumerated for the column day_of_the_week \n",
    "3. Integer for columns incident number and offence_code\n",
    "4. Date for column date\n",
    "5. Decimal(10,8) for lat and long [precision 10, scale 8] "
   ]
  },
  {
   "cell_type": "markdown",
   "metadata": {},
   "source": [
    "### Creating Enumerated datatype"
   ]
  },
  {
   "cell_type": "code",
   "execution_count": 8,
   "metadata": {
    "collapsed": true
   },
   "outputs": [],
   "source": [
    "cur.execute(\"CREATE TYPE day_of_week as ENUM ('Monday','Tuesday','Wednesday','Thursday','Friday','Saturday','Sunday');\")\n",
    "conn.commit()"
   ]
  },
  {
   "cell_type": "code",
   "execution_count": 9,
   "metadata": {
    "collapsed": true
   },
   "outputs": [],
   "source": [
    "cur.execute('''\n",
    "CREATE TABLE crimes.boston_crimes (\n",
    "    incident_number INTEGER PRIMARY KEY,\n",
    "    offence_code INTEGER,\n",
    "    description VARCHAR(80),\n",
    "    date DATE,\n",
    "    day_of_the_week DAY_OF_WEEK,\n",
    "    lat DECIMAL(10,8),\n",
    "    long DECIMAL(10,8)\n",
    ");\n",
    "''')\n",
    "conn.commit()"
   ]
  },
  {
   "cell_type": "markdown",
   "metadata": {},
   "source": [
    "## Loading the Data"
   ]
  },
  {
   "cell_type": "code",
   "execution_count": 14,
   "metadata": {
    "collapsed": true
   },
   "outputs": [],
   "source": [
    "with open('boston.csv','r') as f:\n",
    "    cur.copy_expert(\"COPY crimes.boston_crimes FROM STDIN WITH CSV HEADER\",f)\n",
    "conn.commit()    "
   ]
  },
  {
   "cell_type": "markdown",
   "metadata": {},
   "source": [
    "## Revoking Public Privileges"
   ]
  },
  {
   "cell_type": "code",
   "execution_count": 15,
   "metadata": {},
   "outputs": [],
   "source": [
    "cur.execute(\"REVOKE ALL ON SCHEMA public FROM public;\")\n",
    "cur.execute(\"REVOKE ALL ON DATABASE crime_db FROM public;\")\n",
    "conn.commit()"
   ]
  },
  {
   "cell_type": "markdown",
   "metadata": {},
   "source": [
    "## Creating User Groups"
   ]
  },
  {
   "cell_type": "code",
   "execution_count": 25,
   "metadata": {},
   "outputs": [],
   "source": [
    "# Creating Groups\n",
    "cur.execute(\"CREATE GROUP readonly NOLOGIN;\")\n",
    "cur.execute(\"CREATE GROUP readwrite NOLOGIN;\")\n",
    "\n",
    "# Granting privelages on tables in crimes schema\n",
    "cur.execute(\"GRANT SELECT ON ALL TABLES in SCHEMA crimes to readonly;\")\n",
    "cur.execute(\"GRANT SELECT, INSERT, DELETE, UPDATE on ALL TABLES in SCHEMA crimes to readwrite;\")\n",
    "\n",
    "# Granting Connect on database crimes_db\n",
    "cur.execute(\"GRANT CONNECT ON DATABASE crime_db to readonly,readwrite;\")\n",
    "\n",
    "# Granting Usage on schema crimes\n",
    "cur.execute(\"GRANT USAGE ON SCHEMA crimes to readonly, readwrite;\")\n",
    "conn.commit()"
   ]
  },
  {
   "cell_type": "markdown",
   "metadata": {},
   "source": [
    "## Creating Users"
   ]
  },
  {
   "cell_type": "code",
   "execution_count": 26,
   "metadata": {
    "collapsed": true
   },
   "outputs": [],
   "source": [
    "cur.execute(\"CREATE USER data_analyst WITH PASSWORD 'secret1';\")\n",
    "cur.execute(\"GRANT readonly to data_analyst;\")\n",
    "cur.execute(\"CREATE USER data_scientist WITH PASSWORD 'secret2';\")\n",
    "cur.execute(\"GRANT readwrite to data_scientist;\")\n",
    "conn.commit()\n",
    "\n"
   ]
  },
  {
   "cell_type": "markdown",
   "metadata": {
    "collapsed": true
   },
   "source": [
    "## Testing"
   ]
  },
  {
   "cell_type": "code",
   "execution_count": 28,
   "metadata": {},
   "outputs": [
    {
     "name": "stdout",
     "output_type": "stream",
     "text": [
      "['Grantee', 'Privilege', [('readonly', 'SELECT'), ('readwrite', 'INSERT'), ('readwrite', 'SELECT'), ('readwrite', 'UPDATE'), ('readwrite', 'DELETE')], [('readonly', 'SELECT'), ('readwrite', 'INSERT'), ('readwrite', 'SELECT'), ('readwrite', 'UPDATE'), ('readwrite', 'DELETE')]]\n"
     ]
    }
   ],
   "source": [
    "cur.execute('''\n",
    "SELECT grantee, privilege_type\n",
    "    FROM information_schema.table_privileges\n",
    "    WHERE grantee in ('readonly','readwrite');\n",
    "''')\n",
    "result.append(cur.fetchall())\n",
    "print(result)"
   ]
  },
  {
   "cell_type": "code",
   "execution_count": null,
   "metadata": {
    "collapsed": true
   },
   "outputs": [],
   "source": [
    "cur.execute()"
   ]
  }
 ],
 "metadata": {
  "kernelspec": {
   "display_name": "Python 3",
   "language": "python",
   "name": "python3"
  },
  "language_info": {
   "codemirror_mode": {
    "name": "ipython",
    "version": 3
   },
   "file_extension": ".py",
   "mimetype": "text/x-python",
   "name": "python",
   "nbconvert_exporter": "python",
   "pygments_lexer": "ipython3",
   "version": "3.7.6"
  }
 },
 "nbformat": 4,
 "nbformat_minor": 2
}
